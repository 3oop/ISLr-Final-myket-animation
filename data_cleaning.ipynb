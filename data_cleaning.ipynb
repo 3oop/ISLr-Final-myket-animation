{
 "cells": [
  {
   "cell_type": "markdown",
   "id": "6c596a18-61c8-4f94-ba28-8a29877678b5",
   "metadata": {},
   "source": [
    "## Data Cleaning\n",
    "\n",
    "Running `amar.rmd` notebook will generate  Our Data is saved in `animation_data.csv`. "
   ]
  },
  {
   "cell_type": "code",
   "execution_count": 5,
   "id": "9c7e27b3-b31f-4f0e-a377-bff0b0480480",
   "metadata": {},
   "outputs": [],
   "source": [
    "import numpy as np\n",
    "import matplotlib.pyplot as plt\n",
    "\n",
    "import pandas as pd\n",
    "import seaborn as sns"
   ]
  },
  {
   "cell_type": "markdown",
   "id": "88b190f5-4aa8-45ce-82f8-9309dda526e9",
   "metadata": {},
   "source": [
    "### Loading Data"
   ]
  },
  {
   "cell_type": "code",
   "execution_count": 154,
   "id": "8babca9d-1909-487d-b43e-3b306407d3b2",
   "metadata": {},
   "outputs": [
    {
     "name": "stdout",
     "output_type": "stream",
     "text": [
      "<class 'pandas.core.frame.DataFrame'>\n",
      "RangeIndex: 1010 entries, 0 to 1009\n",
      "Data columns (total 60 columns):\n",
      " #   Column                   Non-Null Count  Dtype \n",
      "---  ------                   --------------  ----- \n",
      " 0   URL                      1010 non-null   object\n",
      " 1   Name                     1010 non-null   object\n",
      " 2   IMDB_Link                930 non-null    object\n",
      " 3   Amtiaz                   1010 non-null   int64 \n",
      " 4   Number_People            1010 non-null   object\n",
      " 5   Country                  990 non-null    object\n",
      " 6   Year                     1010 non-null   object\n",
      " 7   Rade                     1010 non-null   object\n",
      " 8   Num_Seasons              1010 non-null   int64 \n",
      " 9   Total_Episodes           1010 non-null   int64 \n",
      " 10  Publication              1010 non-null   int64 \n",
      " 11  VoiceActors              1010 non-null   int64 \n",
      " 12  Review                   1010 non-null   int64 \n",
      " 13  Tips                     1010 non-null   int64 \n",
      " 14  End                      1010 non-null   int64 \n",
      " 15  Description              1010 non-null   int64 \n",
      " 16  Characters               1010 non-null   int64 \n",
      " 17  InformativeMessages      1010 non-null   int64 \n",
      " 18  PositiveAndNegative      1010 non-null   int64 \n",
      " 19  SummaryStory             1010 non-null   int64 \n",
      " 20  Screening                1010 non-null   int64 \n",
      " 21  Critics                  1010 non-null   int64 \n",
      " 22  Conclusion               1010 non-null   int64 \n",
      " 23  Introduction             1010 non-null   int64 \n",
      " 24  Total_Words              1010 non-null   int64 \n",
      " 25  Num_Titles               1010 non-null   int64 \n",
      " 26  Is_Doblele               1010 non-null   int64 \n",
      " 27  Total_Target_Words       1010 non-null   int64 \n",
      " 28  About_Words              1010 non-null   int64 \n",
      " 29  Story_Words              1010 non-null   int64 \n",
      " 30  Release_Date_Words       1010 non-null   int64 \n",
      " 31  Review_Words             1010 non-null   int64 \n",
      " 32  Final_Words              1010 non-null   int64 \n",
      " 33  Informative_Words        1010 non-null   int64 \n",
      " 34  Positive_Negative_Words  1010 non-null   int64 \n",
      " 35  Summary_Words            1010 non-null   int64 \n",
      " 36  Screening_Words          1010 non-null   int64 \n",
      " 37  Critics_Words            1010 non-null   int64 \n",
      " 38  Conclusion_Words         1010 non-null   int64 \n",
      " 39  Introduction_Words       1010 non-null   int64 \n",
      " 40  Voice_Actor_Words        1010 non-null   int64 \n",
      " 41  Series                   1010 non-null   int64 \n",
      " 42  Animation                1010 non-null   int64 \n",
      " 43  Western                  1010 non-null   int64 \n",
      " 44  Adventure                1010 non-null   int64 \n",
      " 45  Comedy                   1010 non-null   int64 \n",
      " 46  Family                   1010 non-null   int64 \n",
      " 47  Fantasy                  1010 non-null   int64 \n",
      " 48  Mystery                  1010 non-null   int64 \n",
      " 49  Action                   1010 non-null   int64 \n",
      " 50  Romance                  1010 non-null   int64 \n",
      " 51  Drama                    1010 non-null   int64 \n",
      " 52  SciFi                    1010 non-null   int64 \n",
      " 53  ShortFilm                1010 non-null   int64 \n",
      " 54  Crime                    1010 non-null   int64 \n",
      " 55  Musical                  1010 non-null   int64 \n",
      " 56  Korean                   1010 non-null   int64 \n",
      " 57  Thriller                 1010 non-null   int64 \n",
      " 58  Anime                    1010 non-null   int64 \n",
      " 59  Music                    1010 non-null   int64 \n",
      "dtypes: int64(53), object(7)\n",
      "memory usage: 473.6+ KB\n"
     ]
    }
   ],
   "source": [
    "df = pd.read_csv('animation_movie_features-3.csv')\n",
    "\n",
    "df.info()"
   ]
  },
  {
   "cell_type": "markdown",
   "id": "e0ea1ff1-280d-42a8-b17d-5b61ea4bcadc",
   "metadata": {},
   "source": [
    "### Data Describtion\n",
    "\n",
    "| feature | datatype | Description | farsi |\n",
    "| :-------| ------- | :------------| -------: |\n",
    "| URL                    | chr | the complete url to the animation's page | URL - آدرس اینترنتی صفحه انیمیشن|\n",
    "| Name                   | chr |  Name of the animation in farsi  |Name - نام انیمیشن|\n",
    "| IMDB_Link              | chr | number in range [0,10] with one decimal position but farsi digits \"۶.۷\" \"۷.۰\" ... |IMDB_Link - امتیاز به صفحه IMDb انیمیشن|\n",
    "| Amtiaz                 | int | percentage rating from the website  | Amtiaz - امتیاز انیمیشن که توسط کاربران داده شده|\n",
    "| Number_People          | chr | number of people who rated this animation in farsi numbers $[0, \\infty]$ \"۲,۳۴۲\" \"۱۱,۲۵۶\" ... |Number_People - تعداد کاربرانی که به انیمیشن امتیاز داده‌اند|\n",
    "| Country                | chr | Country of origin in farsi \"آمریکا \" not trimmed |Country - کشور سازنده انیمیشن|\n",
    "| Year                   | chr | release year in Latin digits |Year - سال تولید انیمیشن|\n",
    "| Rade                   | chr | \"رده سنی ۳+\" \"رده سنی ۳+\" \"رده سنی ۳+\" \"رده سنی ۳+\" ... |Rade - رده سنی انیمیشن|\n",
    "| Num_Seasons            | int | Number of seasons, positive integer must be |Num_Seasons - تعداد فصل‌های انیمیشن (در صورت سریال بودن)|\n",
    "| Total_Episodes         | int | Number of total Episodes, positive integer must be. some have zero?|Total_Episodes - تعداد کل قسمت‌ها (در صورت سریال بودن)|\n",
    "| Publication            | int | binary,| Publication - وجود بخش انتشار|\n",
    "| VoiceActors            | int | binary 1 if section exists |VoiceActors - وجود بخش صداپیشگان|\n",
    "| Review                 | int | binary 1 if section exists |Review - وجود بخش نقد و بررسی|\n",
    "| Tips                   | int | binary 1 if section exists |Tips - وجود بخش نکات|\n",
    "| End                    | int | binary 1 if section exists |End - وجود بخش پایانی|\n",
    "| Description            | int | binary 1 if section exists |Description - وجود بخش توضیحات|\n",
    "| Characters             | int | binary 1 if section exists |Characters - وجود بخش شخصیت‌ها|\n",
    "| InformativeMessages    | int | binary 1 if section exists |InformativeMessages - وجود بخش پیام‌های آموزنده|\n",
    "| PositiveAndNegative    | int | binary 1 if section exists |PositiveAndNegative - وجود بخش نکات مثبت و منفی|\n",
    "| SummaryStory           | int | binary 1 if section exists |SummaryStory - وجود بخش خلاصه داستان|\n",
    "| Screening              | int | binary 1 if section exists |Screening - وجود بخش اکران|\n",
    "| Critics                | int | binary 1 if section exists |Critics - وجود بخش نظر منتقدان|\n",
    "| Conclusion             | int | binary 1 if section exists |Conclusion - وجود بخش نتیجه‌گیری|\n",
    "| Introduction           | int | binary 1 if section exists |Introduction - وجود بخش معرفی|\n",
    "| Total_Words            | int | 57 41 1411 1192 73 1329 92 109 1354 74 ...|Total_Words - تعداد کل کلمات در توضیحات|\n",
    "| Num_Titles             | int | 2 2 8 8 2 7 2 2 7 2 ...|Num_Titles - تعداد عناوین توضیحات|\n",
    "| Is_Doblele             | int | binary 1 if it is dubbed |Is_Doblele - آیا عنوان دوبله دارد یا خیر|\n",
    "| Total_Target_Words     | int | count number of target words |Total_Target_Words - تعداد تکرار کلمات خاص در توضیحات|\n",
    "| About_Words            | int | count number of final words |About_Words - تعداد کلمات در بخش \"درباره انیمیشن \"|\n",
    "| Story_Words            | int | count number of Informative words |Story_Words - تعداد کلمات در بخش \"داستان انیمیشن\"|\n",
    "| Release_Date_Words     | int | count number of words in this section |Release_Date_Words - تعداد کلمات در بخش \"تاریخ انتشار\"|\n",
    "| Review_Words           | int | count number of words in this section |Review_Words - تعداد کلمات در بخش \"بررسی انیمیشن \"|\n",
    "| Final_Words            | int | count number of words in this section |Final_Words - تعداد کلمات در بخش سخن پایانی|\n",
    "| Informative_Words      | int | count number of words in this section |Informative_Words - تعداد کلمات در بخش پیام‌های آموزنده|\n",
    "| Positive_Negative_Words| int | count number of words in this section |Positive_Negative_Words - تعداد کلمات در بخش نکات مثبت و منفی|\n",
    "| Summary_Words          | int |count of words |Summary_Words - تعداد کلمات در بخش خلاصه داستان|\n",
    "| Screening_Words        | int |count of words |Screening_Words - تعداد کلمات در بخش زمان اکران|\n",
    "| Critics_Words          | int |count of words |Critics_Words - تعداد کلمات در بخش نظر منتقدان|\n",
    "| Conclusion_Words       | int |count of words |Conclusion_Words - تعداد کلمات در بخش نتیجه‌گیری|\n",
    "| Introduction_Words     | int |count of words |Introduction_Words - تعداد کلمات در بخش معرفی انیمیشن |\n",
    "| Voice_Actor_Words      | int |count of words |Voice_Actor_Words - تعداد کلمات در بخش صداپیشگان|\n",
    "| Series                 | int | binary 1 if tag exists |Series - وجود تگ سریال|\n",
    "| Animation              | int | binary 1 if tag exists |Animation - وجود تگ انیمیشن|\n",
    "| Western                | int | binary 1 if tag exists |Western - وجود تگ وسترن|\n",
    "| Adventure              | int | binary 1 if tag exists |Adventure - وجود تگ ماجراجویی|\n",
    "| Comedy                 | int | binary 1 if tag exists |Comedy - وجود تگ کمدی|\n",
    "| Family                 | int | binary 1 if tag exists |Family - وجود تگ خانوادگی|\n",
    "| Fantasy                | int | binary 1 if tag exists |Fantasy - وجود تگ فانتزی|\n",
    "| Mystery                | int | binary 1 if tag exists |Mystery - وجود تگ معمایی|\n",
    "| Action                 | int | binary 1 if tag exists |Action - وجود تگ اکشن|\n",
    "| Romance                | int | binary 1 if tag exists |Romance - وجود تگ عاشقانه|\n",
    "| Drama                  | int | binary 1 if tag exists |Drama - وجود تگ درام|\n",
    "| SciFi                  | int | binary 1 if tag exists |SciFi - وجود تگ علمی‌تخیلی|\n",
    "| ShortFilm              | int | binary 1 if tag exists |ShortFilm - وجود تگ فیلم کوتاه|\n",
    "| Crime                  | int | binary 1 if tag exists |Crime - وجود تگ جنایی|\n",
    "| Musical                | int | binary 1 if tag exists |Musical - وجود تگ موزیکال|\n",
    "| Korean                 | int | binary 1 if tag exists |Korean - وجود تگ کره‌ای|\n",
    "| Thriller               | int | binary 1 if tag exists |Thriller - وجود تگ هیجان‌انگیز|\n",
    "| Anime                  | int | binary 1 if tag exists |Anime - وجود تگ انیمه|\n",
    "| Music                  | int | binary 1 if tag exists | Music - وجود تگ موسیقی|\n"
   ]
  },
  {
   "cell_type": "markdown",
   "id": "c32ca3d3-008d-410f-9f93-8617e03955e2",
   "metadata": {},
   "source": [
    "### Validating Categorical Data\n",
    "\n",
    "- Country, Rade can be converted to categorical, Year can be numerical\n",
    "- binary values must be only 0 and 1"
   ]
  },
  {
   "cell_type": "code",
   "execution_count": 149,
   "id": "8422736d-c795-4391-bd89-370a4752ccc5",
   "metadata": {},
   "outputs": [
    {
     "name": "stdout",
     "output_type": "stream",
     "text": [
      "Country values : ['کانادا ' 'آمریکا ' 'فرانسه ' 'ژاپن ' nan 'بریتانیا ' 'ایران ' 'روسیه '\n",
      " 'ایرلند ' 'اسپانیا ' 'مکزیک ' 'کره جنوبی ' 'سوئیس ']\n",
      "Year values : ['2023' '2021' '2010' '2018' '2024' '1999' '2020' '2015' '2025' '۱۴۰۳'\n",
      " '2017' '2013' '2022' '2016' '2008' '2005' '2012' '2009' '2019' '2011'\n",
      " '2014']\n",
      "Rade values : ['رده سنی ۳+' 'رده سنی ۱۳+' 'رده سنی ۷+' 'رده سنی ۱۸+']\n",
      "Korean values : [0]\n",
      "Music values : [0]\n"
     ]
    }
   ],
   "source": [
    "print('Country values :', df.Country.unique()) ## str can be stripped and there are missing values\n",
    "print('Year values :', df.Year.unique()) # one value with farsi digits \n",
    "print('Rade values :', df.Rade.unique())\n",
    "\n",
    "cols = df.columns\n",
    "ind = list(range(10,24))\n",
    "ind.append(26)\n",
    "ind.extend(list(range(42, 60)))\n",
    "for i in ind:\n",
    "    if set(df[cols[i]].unique()) != {0,1}:\n",
    "        print(df[cols[i]].name, 'values :', df[cols[i]].unique())\n",
    "## There are no Korean or Music tags in these"
   ]
  },
  {
   "cell_type": "code",
   "execution_count": 150,
   "id": "ab49af8c-89c6-4a58-a74c-266fd881b2d7",
   "metadata": {},
   "outputs": [],
   "source": [
    "df.Country = df.Country.str.strip()\n",
    "df.Country = df.Country.astype('category')\n",
    "\n",
    "df.Rade = df.Rade.astype('category')\n",
    "\n",
    "persian_years = [w for w in df.Year.unique().tolist() if not w.isascii()] # farsi charachters are not ascii\n",
    "df.Year = df.Year.str.replace(persian_years.pop(), \"2024\")\n",
    "df.Year = df.Year.astype('int64')"
   ]
  },
  {
   "cell_type": "markdown",
   "id": "a1584007-fbb5-4709-b33d-349dabd60867",
   "metadata": {},
   "source": [
    "### Examinig Numerical Data\n",
    "\n",
    "- Amtiaz\n",
    "- range IMDB"
   ]
  },
  {
   "cell_type": "code",
   "execution_count": 155,
   "id": "6bb350de-6ae1-49f0-bda5-ace425bda39e",
   "metadata": {},
   "outputs": [],
   "source": [
    "df.IMDB_Link.astype('float64')\n",
    "the_strange_char = df.Number_People[1][1]\n",
    "df.Number_People = df.Number_People.str.replace(the_strange_char,'.').astype('float64')*1000\n",
    "df.Number_People = df.Number_People.astype('int64')"
   ]
  },
  {
   "cell_type": "code",
   "execution_count": 160,
   "id": "b9dccf03-3c79-4328-a7d1-03b3c0bf7648",
   "metadata": {},
   "outputs": [
    {
     "data": {
      "text/plain": [
       "array([  2342,   2713,   3838,  11256,   1647,  15991,  10779,   3236,\n",
       "         5048,   1703,  27346,   9968,   9269,  16200,   8986,  55098,\n",
       "        11155,   2938,   3000, 208000, 309000, 129000,  18000,  76000,\n",
       "         5789,   7419,   4204,   3034,   4976, 263000,   5317, 864000,\n",
       "         2964,   5436,   2572,   1261,   4115,   3768,   2064,   3913,\n",
       "         2593,   4947,  10414, 548000, 337000,   3285,  10465,  13234,\n",
       "         4527,   1510,   5573,   1924,   3436,   4030, 848000,   4845,\n",
       "         5932,   1928,   2075, 572000, 498000,   2578,   6556,   1790,\n",
       "         3628,   7168,   6392,   5694,   3444,   4755,   1018,   6429,\n",
       "         3648, 721000,  23000,  47000,  85000,  82000,   3183, 266000,\n",
       "       222000,  41000, 108000,  13000,  29000,   3357,   5681,   3947,\n",
       "         2312,   2306,   5840,   2946,   5437,   3771,   5687,   2576],\n",
       "      dtype=int64)"
      ]
     },
     "execution_count": 160,
     "metadata": {},
     "output_type": "execute_result"
    }
   ],
   "source": [
    "#df[(df['Num_Seasons'] != 0) & (df['Total_Episodes'] == 0)]\n",
    "# After Examination\n",
    "#df[(df['Num_Seasons'] != 0) & (df['Total_Episodes'] == 0), 'Total_Episodes' ] = 49"
   ]
  },
  {
   "cell_type": "markdown",
   "id": "872b2e0d-88cf-4c3e-bf07-494d7262ad57",
   "metadata": {},
   "source": [
    "## Missing Values\n",
    "\n",
    "- must examine distributions of features between missing and non missing values to see if there is a pattern\n",
    "- if there is no pattern best method is impute by interpolation, we could use smoothing splines.\n"
   ]
  },
  {
   "cell_type": "code",
   "execution_count": null,
   "id": "4eaa3de8-aa41-4c66-871a-5b7460c2147d",
   "metadata": {},
   "outputs": [],
   "source": []
  }
 ],
 "metadata": {
  "kernelspec": {
   "display_name": "Python 3 (ipykernel)",
   "language": "python",
   "name": "python3"
  },
  "language_info": {
   "codemirror_mode": {
    "name": "ipython",
    "version": 3
   },
   "file_extension": ".py",
   "mimetype": "text/x-python",
   "name": "python",
   "nbconvert_exporter": "python",
   "pygments_lexer": "ipython3",
   "version": "3.12.7"
  }
 },
 "nbformat": 4,
 "nbformat_minor": 5
}
